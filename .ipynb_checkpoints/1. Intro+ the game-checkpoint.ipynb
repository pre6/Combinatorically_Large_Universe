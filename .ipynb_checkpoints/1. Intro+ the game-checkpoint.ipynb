{
 "cells": [
  {
   "cell_type": "markdown",
   "id": "b246badc-cbac-447b-9ce9-c63dea012201",
   "metadata": {},
   "source": [
    "# Combinatorically Large Universe\n",
    "\n",
    "When I was learning python, I made the game Mastermind. Its only when I tried to write an algorithm to solve it that I realized that there are problems that are combinatorically too large to solve. Or as the number of paramters increase that time it takes so solve them also increases exponentially.\n",
    "\n",
    "\n",
    "Here I am just exploring how to solve the game and howo to measure the complexity of different ways of solving the game.\n",
    "\n",
    "I also want to look into how to measure algorithmic complexities but in recurrent neural networks.\n",
    "\n",
    "\n",
    "I coded a simple version of this in python but in this version there are 6 numbers to choose from and a 4 letter code. You have 12 tries. To explore this combinatorially I want to make the number of number, the length of the code and the number of tries variables. "
   ]
  },
  {
   "cell_type": "markdown",
   "id": "a88214bc-c07b-43d0-bed5-5c2296097fd0",
   "metadata": {},
   "source": [
    "# 1. Choosing the code"
   ]
  },
  {
   "cell_type": "code",
   "execution_count": 1,
   "id": "21ad6c55-e339-4d65-ac11-65a679d57772",
   "metadata": {},
   "outputs": [],
   "source": [
    "import random\n",
    "\n",
    "def choose_code(max_number, code_length):\n",
    "    \n",
    "    Num_Total = list(range(1, max_number + 1))\n",
    "    # this is the number of the numbers available to use.\n",
    "    Code = ''\n",
    "    \n",
    "    for _ in range(code_length):\n",
    "        Code += str(random.choice(Num_Total))\n",
    "        # this randomly pick a number from the total available numbers\\\n",
    "    \n",
    "    return Code"
   ]
  },
  {
   "cell_type": "code",
   "execution_count": 2,
   "id": "b5cea65b-4857-4935-ac81-089196d437e6",
   "metadata": {},
   "outputs": [
    {
     "name": "stdout",
     "output_type": "stream",
     "text": [
      "4134\n"
     ]
    }
   ],
   "source": [
    "# test it out\n",
    "\n",
    "x =choose_code(4, 4)\n",
    "\n",
    "print(x)"
   ]
  },
  {
   "cell_type": "code",
   "execution_count": 13,
   "id": "6325aa28-458e-4396-8251-7268c40e4c26",
   "metadata": {},
   "outputs": [
    {
     "name": "stdout",
     "output_type": "stream",
     "text": [
      "\n",
      "Let's get started! \n",
      "\n",
      "Hmmm... I am thinking of a code \n",
      "\n"
     ]
    },
    {
     "name": "stdin",
     "output_type": "stream",
     "text": [
      "Enter the number of numbers you can select from (e.g., 6 for numbers 1-6):  6\n",
      "Enter the length of the code:  4\n"
     ]
    },
    {
     "name": "stdout",
     "output_type": "stream",
     "text": [
      "● ● ● ●\n"
     ]
    },
    {
     "name": "stdin",
     "output_type": "stream",
     "text": [
      "Enter the length of the code:  12\n"
     ]
    },
    {
     "name": "stdout",
     "output_type": "stream",
     "text": [
      "2342\n",
      "Ok! I got one.\n",
      "\n",
      "Numbers to Choose from: \n",
      "1 to 6\n"
     ]
    },
    {
     "name": "stdin",
     "output_type": "stream",
     "text": [
      "Please Enter Your Guess:  2342\n"
     ]
    },
    {
     "name": "stdout",
     "output_type": "stream",
     "text": [
      "Take another Guess! \n",
      "\n",
      "Congratulations That was my code\n",
      "2 3 4 2 | ● ● ● ● \n",
      "you Guessed it in  1  guesses!\n"
     ]
    }
   ],
   "source": [
    "\n",
    "'''\n",
    "2b: Display previous guesses\n",
    "\n",
    "'''\n",
    "def display_guess(guess_code):\n",
    "    for thing in guess_code:\n",
    "        a = \" \".join(thing)\n",
    "        b = guess_code[thing]\n",
    "        print(a, '|', b )\n",
    "\n",
    "'''\n",
    "2c: Check Guess\n",
    "\n",
    "'''\n",
    "\n",
    "\n",
    "def Guess(total_guesses,max_num_of_guesses,max_number,code_length):\n",
    "    Guess = ''\n",
    "    y = False\n",
    "    while not(len(Guess)==code_length and y):  \n",
    "        print('Numbers to Choose from: ')\n",
    "        print(f\"1 to {max_number}\")\n",
    "\n",
    "        g = []\n",
    "        Guess = input('Please Enter Your Guess: ')\n",
    "        if len(Guess) != code_length:\n",
    "            print('You entered a code that is not the right length')\n",
    "            print('Please Try Again')\n",
    "        for item in Guess:\n",
    "            g.append(item)\n",
    "        K_guess = tuple(g)\n",
    "        if K_guess in total_guesses:\n",
    "            y = False\n",
    "            print('You have already guesses this Code \\n')\n",
    "            print('Please Try Again')\n",
    "        else:\n",
    "            y = True\n",
    "    h = [Guess,K_guess]\n",
    "    return h\n",
    "\n",
    "\n",
    "\n",
    "\n",
    "'''\n",
    "3: calculate clue:\n",
    "\n",
    "check for doubles    \n",
    "'''\n",
    "\n",
    "def Clues(code,guess,code_length):\n",
    "    print(\"Take another Guess! \\n\")\n",
    "    circle = ''\n",
    "    check_mark = ''\n",
    "    i = 0\n",
    "    while i in range(code_length):\n",
    "        if code[i] == guess[i]:\n",
    "            check_mark = check_mark + '● '\n",
    "            code = code.replace(code[i], ' ',1)\n",
    "            guess = guess.replace(guess[i], ' ',1)\n",
    "        i += 1\n",
    "    for number in code:\n",
    "        if number ==' ':\n",
    "            continue\n",
    "        elif number in guess:\n",
    "            circle = circle + 'o '\n",
    "            code = code.replace(number, ' ',1)\n",
    "            guess = guess.replace(number, ' ',1)\n",
    "            \n",
    "    \n",
    "    clue = circle + check_mark\n",
    "    return clue\n",
    "\n",
    "\n",
    "\n",
    "'''\n",
    "Play Game\n",
    "\n",
    "'''\n",
    "\n",
    "\n",
    "def play_game():\n",
    "    total_guesses = {}\n",
    "    print('')\n",
    "\n",
    "    print(\"Let's get started! \\n\")\n",
    "\n",
    "    print(\"Hmmm... I am thinking of a code \\n\")\n",
    "\n",
    "\n",
    "    # Ask the user for the number of numbers they can select from\n",
    "    max_number = int(input(\"Enter the number of numbers you can select from (e.g., 6 for numbers 1-6): \"))\n",
    "\n",
    "    # Ask the user for the length of the code\n",
    "    code_length = int(input(\"Enter the length of the code: \"))\n",
    "    print(' '.join(['●'] * code_length))\n",
    "\n",
    "    max_num_of_guesses = int(input(\"Enter the length of the code: \"))\n",
    "    code = choose_code(max_number,code_length)\n",
    "    print(code)\n",
    "\n",
    "    print('Ok! I got one.\\n')\n",
    " \n",
    "    guess_num = 0\n",
    "    while guess_num < max_num_of_guesses:        \n",
    "        guess = Guess(total_guesses,max_num_of_guesses,max_number,code_length)\n",
    "        clue = Clues(guess[0],code,code_length)\n",
    "        total_guesses[guess[1]] = clue\n",
    "        guess_num += 1\n",
    "        if clue == ''.join(['● '] * code_length) :\n",
    "            print('Congratulations That was my code')\n",
    "          \n",
    "            display_guess(total_guesses)\n",
    "          \n",
    "            print('you Guessed it in ', guess_num, ' guesses!')\n",
    "            break\n",
    "        else:\n",
    "            print(\"Here are your previous Guesses and clues: \\n\")\n",
    "            display_guess(total_guesses)\n",
    "        \n",
    "            print('You have ', max_num_of_guesses - guess_num, \" guesses left \\n\")\n",
    "       \n",
    "            \n",
    "            continue\n",
    "\n",
    "    if not(clue == ''.join(['● '] * code_length)):\n",
    "        print('You ran out of guesses')\n",
    "        print('My code was: ', code)\n",
    "\n",
    "\n",
    "x = play_game()\n",
    "\n",
    "\n"
   ]
  },
  {
   "cell_type": "code",
   "execution_count": null,
   "id": "fdb575e4-1488-4a8c-bd3b-708b1a122f02",
   "metadata": {},
   "outputs": [],
   "source": []
  }
 ],
 "metadata": {
  "kernelspec": {
   "display_name": "Python 3 (ipykernel)",
   "language": "python",
   "name": "python3"
  },
  "language_info": {
   "codemirror_mode": {
    "name": "ipython",
    "version": 3
   },
   "file_extension": ".py",
   "mimetype": "text/x-python",
   "name": "python",
   "nbconvert_exporter": "python",
   "pygments_lexer": "ipython3",
   "version": "3.11.5"
  }
 },
 "nbformat": 4,
 "nbformat_minor": 5
}
