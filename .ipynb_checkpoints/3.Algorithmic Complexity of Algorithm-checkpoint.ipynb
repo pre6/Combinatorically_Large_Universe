{
 "cells": [
  {
   "cell_type": "markdown",
   "id": "22814638-39f4-48ad-9491-f9ae58904e26",
   "metadata": {},
   "source": [
    "# Algorithmic Complexity of my Algorithm\n",
    "\n",
    "First I have to figure out how to measure the complexity of algorithms. I have no clue. I vaugley remember something about time complexity and big O notation. \n",
    "\n",
    "I watched like one video. I think the function with the largest time complexity is this function.\n"
   ]
  },
  {
   "cell_type": "code",
   "execution_count": 1,
   "id": "3774fad2-4824-42b0-8e3e-0e5ef2262a22",
   "metadata": {},
   "outputs": [],
   "source": [
    "def generate_permutations_with_duplicates(numbers, length, current=''):\n",
    "    n=''.join(str(i) for i in range(1, numbers + 1))\n",
    "    if length == 0:\n",
    "        return [tuple(current)]\n",
    "\n",
    "    result = []\n",
    "    for i in range(numbers):\n",
    "        result.extend(generate_permutations_with_duplicates(numbers, length-1, current + n[i]))\n",
    "\n",
    "    return result\n"
   ]
  },
  {
   "cell_type": "markdown",
   "id": "8a701573-2cfc-4995-9350-7affa713c73f",
   "metadata": {},
   "source": [
    "## Time Complexity Analysis:\n",
    "\n",
    "1. Base Case:\n",
    "\n",
    "\n",
    "   - When length == 0, the function returns a list containing one tuple. This is a constant time operation,O(1).\n",
    "\n",
    "\n",
    "2. Recurrence Relation:\n",
    "\n",
    "    -  For each recursive call, the function iterates numbers times and makes a recursive call with length - length - 1\n",
    "    -  Therefore, if 𝑇(length)T(length) is the time complexity of the function, the recurrence relation is: T(length)=numbers×T(length−1)\n",
    "    \n",
    "  \n",
    "The overall time complexity can be expressed as: \n",
    "\n",
    "T(length)=numbers^length ×T(0) = numbers^length ×O(1) =O(numbers^length )\n",
    "\n",
    "\n",
    "\n",
    "Meaning that this is an algorithm that is exponentially time complex. \n",
    "\n",
    "\n",
    "### In relation to evolution\n",
    "\n",
    "- overall producing every single possible answer is very costly. I think you can conclude that human brains don't work that way. so when I solve this puzzle I don't really use information theory\n",
    "\n",
    "- upon furthur thought its the way the algorithm is written. If I can still build every single possible combination of codes without using recursion maybe we still solve it the \"information theory\" way\n",
    "\n"
   ]
  },
  {
   "cell_type": "code",
   "execution_count": null,
   "id": "03404f58-be9c-4eb2-a0e4-655a85d91490",
   "metadata": {},
   "outputs": [],
   "source": []
  }
 ],
 "metadata": {
  "kernelspec": {
   "display_name": "Python 3 (ipykernel)",
   "language": "python",
   "name": "python3"
  },
  "language_info": {
   "codemirror_mode": {
    "name": "ipython",
    "version": 3
   },
   "file_extension": ".py",
   "mimetype": "text/x-python",
   "name": "python",
   "nbconvert_exporter": "python",
   "pygments_lexer": "ipython3",
   "version": "3.11.5"
  }
 },
 "nbformat": 4,
 "nbformat_minor": 5
}
