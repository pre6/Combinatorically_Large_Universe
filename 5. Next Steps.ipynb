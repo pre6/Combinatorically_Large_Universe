{
 "cells": [
  {
   "cell_type": "markdown",
   "id": "1da877ff-3fb7-4e84-81ba-4a50b521d3b7",
   "metadata": {},
   "source": [
    "I thought a lot about how cobinatorially large things are just hard to solve right?\n",
    "\n",
    "but there are things that we regularley deal with that are also combinatorically large like language\n",
    " for example wordle is a lot like mastermind. but i think like evolution has prepared us in a way that makes a smalls subset of a large combinaotrical thing.\n",
    "\n",
    "for example there are tonnes of sounds that could be made but we can only make and hear a fraction of them. Similarly theree are 26^5 possible 5 letter words but only like 30 000 real words. So imcurious to see humans solving wordle and everything wordle. for everything wordle  we actually have less information because every possibility is equally likeley . and regular wordle has information because we know that liks st is more common that fg. \n",
    "\n",
    "Using information theory i think we can guess everuthing wordle and wordls just fine. but for Humans i think wordle should be easier to solve than everything wordle, because we have an innate understanding of our distribusions of letters. \n",
    "\n",
    "Assuming RNN can solve wordle like humans? or just solve wordle, im wondering if i can get a network to solve wordle the networks kin of carry the distribusion of the letters in the nework some how. I want to see if i can extract the distribusions in a rnn format\n",
    "\n",
    "\n"
   ]
  },
  {
   "cell_type": "code",
   "execution_count": null,
   "id": "7ff75708-2aba-4433-81cc-1c62df310e3d",
   "metadata": {},
   "outputs": [],
   "source": []
  }
 ],
 "metadata": {
  "kernelspec": {
   "display_name": "Python 3 (ipykernel)",
   "language": "python",
   "name": "python3"
  },
  "language_info": {
   "codemirror_mode": {
    "name": "ipython",
    "version": 3
   },
   "file_extension": ".py",
   "mimetype": "text/x-python",
   "name": "python",
   "nbconvert_exporter": "python",
   "pygments_lexer": "ipython3",
   "version": "3.11.5"
  }
 },
 "nbformat": 4,
 "nbformat_minor": 5
}
